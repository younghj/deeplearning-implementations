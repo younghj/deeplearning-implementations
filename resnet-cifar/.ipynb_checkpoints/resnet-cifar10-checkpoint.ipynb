{
 "cells": [
  {
   "cell_type": "code",
   "execution_count": 1,
   "metadata": {},
   "outputs": [
    {
     "name": "stderr",
     "output_type": "stream",
     "text": [
      "Using TensorFlow backend.\n"
     ]
    }
   ],
   "source": [
    "import os\n",
    "os.environ['KERAS_BACKEND'] = 'tensorflow'\n",
    "# os.environ[\"THEANO_FLAGS\"] = \"mode=FAST_RUN,device=gpu,floatX=float32\"\n",
    "\n",
    "import keras\n",
    "import numpy as np\n",
    "from keras.models import Model, load_model\n",
    "from keras.layers import Dense, Input, MaxPooling2D, Conv2D, AveragePooling2D, Activation\n",
    "from keras.layers import BatchNormalization, Concatenate, Add, Flatten, Dropout\n",
    "from keras.layers import GlobalAveragePooling2D\n",
    "from keras.optimizers import Adam\n",
    "from keras.preprocessing.image import ImageDataGenerator, array_to_img, img_to_array, load_img\n",
    "from keras.regularizers import l2\n",
    "from keras.callbacks import EarlyStopping, ModelCheckpoint\n",
    "\n",
    "from keras.datasets import cifar10\n",
    "from keras.utils import np_utils"
   ]
  },
  {
   "cell_type": "code",
   "execution_count": 13,
   "metadata": {
    "collapsed": true
   },
   "outputs": [],
   "source": [
    "(xx_train, yy_train), (x_test, y_test) = cifar10.load_data()\n",
    "x_train = xx_train[:40000]\n",
    "y_train = yy_train[:40000]\n",
    "x_valid = xx_train[40000:50000]\n",
    "y_valid = yy_train[40000:50000]\n",
    "\n",
    "x_train = x_train/255.0\n",
    "x_valid = x_valid/255.0\n",
    "x_test = x_test/255.0\n",
    "\n",
    "y_train = np_utils.to_categorical(y_train)\n",
    "y_valid = np_utils.to_categorical(y_valid)\n",
    "y_test = np_utils.to_categorical(y_test)s"
   ]
  },
  {
   "cell_type": "code",
   "execution_count": 4,
   "metadata": {},
   "outputs": [
    {
     "data": {
      "text/plain": [
       "(32, 32, 3)"
      ]
     },
     "execution_count": 4,
     "metadata": {},
     "output_type": "execute_result"
    }
   ],
   "source": [
    "x_train.shape[1:]"
   ]
  },
  {
   "cell_type": "code",
   "execution_count": 5,
   "metadata": {
    "collapsed": true
   },
   "outputs": [],
   "source": [
    "def resnet_block(conv_val, x, repeat_num):\n",
    "    x = MaxPooling2D(pool_size=(3,3), strides=2)(x)\n",
    "    conv = Conv2D(conv_val, (3,3), strides=1, padding='same', kernel_initializer='he_normal')\n",
    "    for i in xrange(repeat_num):\n",
    "        xtmp = BatchNormalization()(x)\n",
    "        xtmp = Activation('relu')(xtmp)\n",
    "        xtmp = conv(xtmp)\n",
    "    x = Concatenate()([x,xtmp])\n",
    "    return x"
   ]
  },
  {
   "cell_type": "code",
   "execution_count": 21,
   "metadata": {},
   "outputs": [],
   "source": [
    "l = Input(x_train.shape[1:])\n",
    "\n",
    "x = Conv2D(64, (7,7), strides=2, padding='same', kernel_initializer='he_normal')(l)\n",
    "x = BatchNormalization()(x)\n",
    "x = Activation('relu')(x)\n",
    "\n",
    "x = resnet_block(64, x, 2)\n",
    "x = resnet_block(128, x, 2)\n",
    "# x = resnet_block(256, x, 2)\n",
    "\n",
    "x = BatchNormalization()(x)\n",
    "x = Activation('relu')(x)\n",
    "# x = GlobalAveragePooling2D()(x)\n",
    "x = AveragePooling2D(pool_size=(2,2))(x)\n",
    "x = Flatten()(x)\n",
    "\n",
    "x = Dense(10, activation='softmax', kernel_initializer='he_normal', kernel_regularizer=l2(0.0001))(x)\n",
    "\n",
    "early=EarlyStopping(monitor='val_acc', patience=15, verbose=1, mode='auto')\n",
    "filepath=\"weights.best.hdf5\"\n",
    "checkpoint=ModelCheckpoint(filepath, monitor='val_acc', verbose=1, save_best_only=True, mode='max')"
   ]
  },
  {
   "cell_type": "code",
   "execution_count": null,
   "metadata": {
    "collapsed": true
   },
   "outputs": [],
   "source": [
    "#if training was cut short\n",
    "model = load_model('weights.best.hdf5')"
   ]
  },
  {
   "cell_type": "code",
   "execution_count": 22,
   "metadata": {},
   "outputs": [
    {
     "name": "stdout",
     "output_type": "stream",
     "text": [
      "__________________________________________________________________________________________________\n",
      "Layer (type)                    Output Shape         Param #     Connected to                     \n",
      "==================================================================================================\n",
      "input_7 (InputLayer)            (None, 32, 32, 3)    0                                            \n",
      "__________________________________________________________________________________________________\n",
      "conv2d_25 (Conv2D)              (None, 16, 16, 64)   9472        input_7[0][0]                    \n",
      "__________________________________________________________________________________________________\n",
      "batch_normalization_49 (BatchNo (None, 16, 16, 64)   256         conv2d_25[0][0]                  \n",
      "__________________________________________________________________________________________________\n",
      "activation_49 (Activation)      (None, 16, 16, 64)   0           batch_normalization_49[0][0]     \n",
      "__________________________________________________________________________________________________\n",
      "max_pooling2d_19 (MaxPooling2D) (None, 7, 7, 64)     0           activation_49[0][0]              \n",
      "__________________________________________________________________________________________________\n",
      "batch_normalization_51 (BatchNo (None, 7, 7, 64)     256         max_pooling2d_19[0][0]           \n",
      "__________________________________________________________________________________________________\n",
      "activation_51 (Activation)      (None, 7, 7, 64)     0           batch_normalization_51[0][0]     \n",
      "__________________________________________________________________________________________________\n",
      "conv2d_26 (Conv2D)              (None, 7, 7, 64)     36928       activation_51[0][0]              \n",
      "__________________________________________________________________________________________________\n",
      "concatenate_19 (Concatenate)    (None, 7, 7, 128)    0           max_pooling2d_19[0][0]           \n",
      "                                                                 conv2d_26[1][0]                  \n",
      "__________________________________________________________________________________________________\n",
      "max_pooling2d_20 (MaxPooling2D) (None, 3, 3, 128)    0           concatenate_19[0][0]             \n",
      "__________________________________________________________________________________________________\n",
      "batch_normalization_53 (BatchNo (None, 3, 3, 128)    512         max_pooling2d_20[0][0]           \n",
      "__________________________________________________________________________________________________\n",
      "activation_53 (Activation)      (None, 3, 3, 128)    0           batch_normalization_53[0][0]     \n",
      "__________________________________________________________________________________________________\n",
      "conv2d_27 (Conv2D)              (None, 3, 3, 128)    147584      activation_53[0][0]              \n",
      "__________________________________________________________________________________________________\n",
      "concatenate_20 (Concatenate)    (None, 3, 3, 256)    0           max_pooling2d_20[0][0]           \n",
      "                                                                 conv2d_27[1][0]                  \n",
      "__________________________________________________________________________________________________\n",
      "batch_normalization_54 (BatchNo (None, 3, 3, 256)    1024        concatenate_20[0][0]             \n",
      "__________________________________________________________________________________________________\n",
      "activation_54 (Activation)      (None, 3, 3, 256)    0           batch_normalization_54[0][0]     \n",
      "__________________________________________________________________________________________________\n",
      "average_pooling2d_6 (AveragePoo (None, 1, 1, 256)    0           activation_54[0][0]              \n",
      "__________________________________________________________________________________________________\n",
      "flatten_4 (Flatten)             (None, 256)          0           average_pooling2d_6[0][0]        \n",
      "__________________________________________________________________________________________________\n",
      "dense_3 (Dense)                 (None, 10)           2570        flatten_4[0][0]                  \n",
      "==================================================================================================\n",
      "Total params: 198,602\n",
      "Trainable params: 197,578\n",
      "Non-trainable params: 1,024\n",
      "__________________________________________________________________________________________________\n"
     ]
    }
   ],
   "source": [
    "model = Model(l,x)\n",
    "model.compile(optimizer='adam', \n",
    "#               loss='sparse_categorical_crossentropy', \n",
    "              loss='categorical_crossentropy',\n",
    "              metrics=['accuracy'])\n",
    "\n",
    "model.summary()"
   ]
  },
  {
   "cell_type": "code",
   "execution_count": null,
   "metadata": {},
   "outputs": [
    {
     "name": "stdout",
     "output_type": "stream",
     "text": [
      "Train on 40000 samples, validate on 10000 samples\n",
      "Epoch 1/150\n",
      "38000/40000 [===========================>..] - ETA: 2s - loss: 1.8820 - acc: 0.3304Epoch 00001: val_acc improved from -inf to 0.13970, saving model to weights.best.hdf5\n",
      "40000/40000 [==============================] - 55s 1ms/step - loss: 1.8684 - acc: 0.3352 - val_loss: 2.2176 - val_acc: 0.1397\n",
      "Epoch 2/150\n",
      "38000/40000 [===========================>..] - ETA: 2s - loss: 1.4565 - acc: 0.4864Epoch 00002: val_acc improved from 0.13970 to 0.16440, saving model to weights.best.hdf5\n",
      "40000/40000 [==============================] - 54s 1ms/step - loss: 1.4511 - acc: 0.4884 - val_loss: 2.2042 - val_acc: 0.1644\n",
      "Epoch 3/150\n",
      "38000/40000 [===========================>..] - ETA: 2s - loss: 1.2648 - acc: 0.5567Epoch 00003: val_acc improved from 0.16440 to 0.22950, saving model to weights.best.hdf5\n",
      "40000/40000 [==============================] - 56s 1ms/step - loss: 1.2640 - acc: 0.5566 - val_loss: 2.2129 - val_acc: 0.2295\n",
      "Epoch 4/150\n",
      "38000/40000 [===========================>..] - ETA: 2s - loss: 1.1444 - acc: 0.5996Epoch 00004: val_acc did not improve\n",
      "40000/40000 [==============================] - 54s 1ms/step - loss: 1.1415 - acc: 0.6005 - val_loss: 2.2255 - val_acc: 0.2161\n",
      "Epoch 5/150\n",
      "38000/40000 [===========================>..] - ETA: 2s - loss: 1.0565 - acc: 0.6307Epoch 00005: val_acc did not improve\n",
      "40000/40000 [==============================] - 57s 1ms/step - loss: 1.0528 - acc: 0.6321 - val_loss: 2.2779 - val_acc: 0.2029\n",
      "Epoch 6/150\n",
      "38000/40000 [===========================>..] - ETA: 2s - loss: 0.9778 - acc: 0.6605Epoch 00006: val_acc improved from 0.22950 to 0.24150, saving model to weights.best.hdf5\n",
      "40000/40000 [==============================] - 53s 1ms/step - loss: 0.9782 - acc: 0.6602 - val_loss: 2.2580 - val_acc: 0.2415\n",
      "Epoch 7/150\n",
      "38000/40000 [===========================>..] - ETA: 2s - loss: 0.9174 - acc: 0.6825Epoch 00007: val_acc improved from 0.24150 to 0.26780, saving model to weights.best.hdf5\n",
      "40000/40000 [==============================] - 54s 1ms/step - loss: 0.9175 - acc: 0.6818 - val_loss: 2.1731 - val_acc: 0.2678\n",
      "Epoch 8/150\n",
      "38000/40000 [===========================>..] - ETA: 2s - loss: 0.8638 - acc: 0.7046Epoch 00008: val_acc improved from 0.26780 to 0.27550, saving model to weights.best.hdf5\n",
      "40000/40000 [==============================] - 54s 1ms/step - loss: 0.8640 - acc: 0.7038 - val_loss: 2.1627 - val_acc: 0.2755\n",
      "Epoch 9/150\n",
      "38000/40000 [===========================>..] - ETA: 2s - loss: 0.8148 - acc: 0.7204"
     ]
    }
   ],
   "source": [
    "history = model.fit(x_train,y_train,\n",
    "          batch_size=2000, epochs=150,\n",
    "          shuffle=True,\n",
    "          validation_data=(x_valid, y_valid), \n",
    "          callbacks=[early,checkpoint])\n"
   ]
  },
  {
   "cell_type": "code",
   "execution_count": null,
   "metadata": {
    "collapsed": true
   },
   "outputs": [],
   "source": [
    "res = model.evaluate_generator(valid_gen, 512)"
   ]
  },
  {
   "cell_type": "code",
   "execution_count": null,
   "metadata": {},
   "outputs": [],
   "source": [
    "print('Loss: %.2f Accuracy: %.2f%%' % (res[0], res[1]*100.0))"
   ]
  },
  {
   "cell_type": "code",
   "execution_count": null,
   "metadata": {
    "collapsed": true
   },
   "outputs": [],
   "source": []
  }
 ],
 "metadata": {
  "anaconda-cloud": {},
  "kernelspec": {
   "display_name": "Python 2",
   "language": "python",
   "name": "python2"
  },
  "language_info": {
   "codemirror_mode": {
    "name": "ipython",
    "version": 2
   },
   "file_extension": ".py",
   "mimetype": "text/x-python",
   "name": "python",
   "nbconvert_exporter": "python",
   "pygments_lexer": "ipython2",
   "version": "2.7.14"
  }
 },
 "nbformat": 4,
 "nbformat_minor": 2
}
