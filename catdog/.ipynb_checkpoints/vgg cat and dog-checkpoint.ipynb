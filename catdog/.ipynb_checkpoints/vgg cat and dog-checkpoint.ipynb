{
 "cells": [
  {
   "cell_type": "code",
   "execution_count": 1,
   "metadata": {},
   "outputs": [
    {
     "name": "stderr",
     "output_type": "stream",
     "text": [
      "Using Theano backend.\n"
     ]
    }
   ],
   "source": [
    "import keras"
   ]
  },
  {
   "cell_type": "code",
   "execution_count": 17,
   "metadata": {
    "collapsed": true
   },
   "outputs": [],
   "source": [
    "import numpy as np\n",
    "from keras.models import Model\n",
    "from keras.layers import Dense, Input\n",
    "from keras.optimizers import Adam"
   ]
  },
  {
   "cell_type": "code",
   "execution_count": 7,
   "metadata": {},
   "outputs": [],
   "source": [
    "data = np.random.randint(2,size=(1000,100))\n",
    "labels = np.random.randint(2, size=(1000,1))\n",
    "l = Input(data.shape[1:])"
   ]
  },
  {
   "cell_type": "code",
   "execution_count": 8,
   "metadata": {},
   "outputs": [
    {
     "data": {
      "text/plain": [
       "(100,)"
      ]
     },
     "execution_count": 8,
     "metadata": {},
     "output_type": "execute_result"
    }
   ],
   "source": [
    "data.shape[1:]"
   ]
  },
  {
   "cell_type": "code",
   "execution_count": 21,
   "metadata": {},
   "outputs": [],
   "source": [
    "x = Dense(32, activation='relu', input_dim=100)(l)\n",
    "xtmp = Dense(1, activation='sigmoid')(x)\n",
    "xtmp = Dense(1, activation='relu')(xtmp)\n",
    "x = xtmp+x"
   ]
  },
  {
   "cell_type": "code",
   "execution_count": 16,
   "metadata": {
    "collapsed": true
   },
   "outputs": [],
   "source": [
    "model = Model(l,x)\n",
    "model.compile(optimizer='rmsprop', loss='binary_crossentropy', metrics=['accuracy'])\n",
    "early = keras.callbacks.EarlyStopping(monitor='val_acc',patience=45, verbose=1, mode='auto')"
   ]
  },
  {
   "cell_type": "code",
   "execution_count": 18,
   "metadata": {},
   "outputs": [
    {
     "name": "stdout",
     "output_type": "stream",
     "text": [
      "Epoch 1/10\n",
      "1000/1000 [==============================] - 0s 28us/step - loss: 0.7186 - acc: 0.5140\n",
      "Epoch 2/10\n",
      "1000/1000 [==============================] - 0s 15us/step - loss: 0.7006 - acc: 0.5230\n",
      "Epoch 3/10\n",
      "1000/1000 [==============================] - 0s 16us/step - loss: 0.6880 - acc: 0.5490\n",
      "Epoch 4/10\n",
      "1000/1000 [==============================] - 0s 14us/step - loss: 0.6786 - acc: 0.5600\n",
      "Epoch 5/10\n",
      "1000/1000 [==============================] - 0s 13us/step - loss: 0.6726 - acc: 0.5750\n",
      "Epoch 6/10\n",
      "1000/1000 [==============================] - 0s 15us/step - loss: 0.6652 - acc: 0.5920\n",
      "Epoch 7/10\n",
      "1000/1000 [==============================] - 0s 13us/step - loss: 0.6599 - acc: 0.6040\n",
      "Epoch 8/10\n",
      "1000/1000 [==============================] - 0s 13us/step - loss: 0.6510 - acc: 0.6240\n",
      "Epoch 9/10\n",
      "1000/1000 [==============================] - 0s 13us/step - loss: 0.6450 - acc: 0.6290\n",
      "Epoch 10/10\n",
      "1000/1000 [==============================] - 0s 13us/step - loss: 0.6378 - acc: 0.6440\n"
     ]
    },
    {
     "name": "stderr",
     "output_type": "stream",
     "text": [
      "/home/tommy/anaconda2/lib/python2.7/site-packages/keras/callbacks.py:493: RuntimeWarning: Early stopping conditioned on metric `val_acc` which is not available. Available metrics are: acc,loss\n",
      "  (self.monitor, ','.join(list(logs.keys()))), RuntimeWarning\n"
     ]
    },
    {
     "data": {
      "text/plain": [
       "<keras.callbacks.History at 0x7f745156f890>"
      ]
     },
     "execution_count": 18,
     "metadata": {},
     "output_type": "execute_result"
    }
   ],
   "source": [
    "model.fit(data, labels, epochs=10, batch_size=32, callbacks=[early])"
   ]
  },
  {
   "cell_type": "code",
   "execution_count": null,
   "metadata": {
    "collapsed": true
   },
   "outputs": [],
   "source": [
    "model.fit(data, labels, )"
   ]
  }
 ],
 "metadata": {
  "kernelspec": {
   "display_name": "Python 2",
   "language": "python",
   "name": "python2"
  },
  "language_info": {
   "codemirror_mode": {
    "name": "ipython",
    "version": 2
   },
   "file_extension": ".py",
   "mimetype": "text/x-python",
   "name": "python",
   "nbconvert_exporter": "python",
   "pygments_lexer": "ipython2",
   "version": "2.7.14"
  }
 },
 "nbformat": 4,
 "nbformat_minor": 2
}
