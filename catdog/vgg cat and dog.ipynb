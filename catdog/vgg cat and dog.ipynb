{
 "cells": [
  {
   "cell_type": "code",
   "execution_count": 24,
   "metadata": {
    "collapsed": true
   },
   "outputs": [],
   "source": [
    "import keras\n",
    "import numpy as np\n",
    "from keras.models import Model\n",
    "from keras.layers import Dense, Input, Add, MaxPooling2D, Conv2D, AveragePooling2D, Activation\n",
    "from keras.optimizers import Adam\n",
    "from keras.preprocessing.image import ImageDataGenerator, array_to_img, img_to_array, load_img"
   ]
  },
  {
   "cell_type": "code",
   "execution_count": 5,
   "metadata": {
    "collapsed": true
   },
   "outputs": [],
   "source": [
    "datagen = ImageDataGenerator(\n",
    "rotation_range=40,\n",
    "width_shift_range=0.2,\n",
    "height_shift_range=0.2,\n",
    "shear_range=0.2,\n",
    "zoom_range=0.2,\n",
    "horizontal_flip=True,\n",
    "fill_mode='nearest')"
   ]
  },
  {
   "cell_type": "code",
   "execution_count": 9,
   "metadata": {},
   "outputs": [
    {
     "name": "stdout",
     "output_type": "stream",
     "text": [
      "Found 16 images belonging to 2 classes.\n",
      "Found 8 images belonging to 2 classes.\n"
     ]
    }
   ],
   "source": [
    "train_gen = datagen.flow_from_directory('dogscats/sample/train',\n",
    "                                       target_size=(150,150),\n",
    "                                       batch_size=32,\n",
    "                                       class_mode='binary')\n",
    "\n",
    "valid_gen = datagen.flow_from_directory('dogscats/sample/valid',\n",
    "                                       target_size=(150,150),\n",
    "                                       batch_size=32,\n",
    "                                       class_mode='binary')"
   ]
  },
  {
   "cell_type": "code",
   "execution_count": 7,
   "metadata": {},
   "outputs": [
    {
     "name": "stdout",
     "output_type": "stream",
     "text": [
      "models\tsample\ttest1  train  valid\r\n"
     ]
    }
   ],
   "source": [
    "!ls dogscats"
   ]
  },
  {
   "cell_type": "code",
   "execution_count": 8,
   "metadata": {},
   "outputs": [],
   "source": [
    "img = load_img('dogscats/sample/train/cats/cat.11737.jpg')\n",
    "arr = img_to_array(img)\n",
    "arr = arr.reshape((1,)+arr.shape)"
   ]
  },
  {
   "cell_type": "code",
   "execution_count": 11,
   "metadata": {},
   "outputs": [
    {
     "data": {
      "text/plain": [
       "(1, 375, 499, 3)"
      ]
     },
     "execution_count": 11,
     "metadata": {},
     "output_type": "execute_result"
    }
   ],
   "source": [
    "arr.shape"
   ]
  },
  {
   "cell_type": "code",
   "execution_count": 12,
   "metadata": {
    "collapsed": true
   },
   "outputs": [],
   "source": [
    "data = np.random.randint(2,size=(1000,100))\n",
    "labels = np.random.randint(2, size=(1000,1))\n"
   ]
  },
  {
   "cell_type": "code",
   "execution_count": 4,
   "metadata": {},
   "outputs": [
    {
     "data": {
      "text/plain": [
       "(100,)"
      ]
     },
     "execution_count": 4,
     "metadata": {},
     "output_type": "execute_result"
    }
   ],
   "source": [
    "data.shape[1:]"
   ]
  },
  {
   "cell_type": "code",
   "execution_count": 29,
   "metadata": {
    "collapsed": true
   },
   "outputs": [],
   "source": [
    "l = Input((3, 150, 150))\n",
    "pool = MaxPooling2D(pool_size=(2,2))"
   ]
  },
  {
   "cell_type": "code",
   "execution_count": 30,
   "metadata": {
    "collapsed": true
   },
   "outputs": [],
   "source": [
    "def resnet_block(conv_val, input_layer, repeat_num):\n",
    "    input_layer = pool(input_layer)\n",
    "    conv = Conv2D(conv_val, (3,3), padding='same')\n",
    "    input_layer_tmp = conv(input_layer)\n",
    "    for i in xrange(repeat_num-1):\n",
    "        input_layer_tmp = conv(input_layer_tmp)\n",
    "    input_layer = Add()([input_layer,input_layer_tmp])\n",
    "    return Activation('relu')(input_layer)"
   ]
  },
  {
   "cell_type": "code",
   "execution_count": 49,
   "metadata": {},
   "outputs": [
    {
     "name": "stdout",
     "output_type": "stream",
     "text": [
      "<class 'theano.tensor.var.TensorVariable'>\n"
     ]
    },
    {
     "ename": "ValueError",
     "evalue": "Input 0 is incompatible with layer conv2d_66: expected axis -1 of input shape to have value 64 but got shape (None, 0, 18, 128)",
     "output_type": "error",
     "traceback": [
      "\u001b[0;31m---------------------------------------------------------------------------\u001b[0m",
      "\u001b[0;31mValueError\u001b[0m                                Traceback (most recent call last)",
      "\u001b[0;32m<ipython-input-49-6dfdf258ec6a>\u001b[0m in \u001b[0;36m<module>\u001b[0;34m()\u001b[0m\n\u001b[1;32m     13\u001b[0m \u001b[0mxtmp\u001b[0m \u001b[0;34m=\u001b[0m \u001b[0mconv\u001b[0m\u001b[0;34m(\u001b[0m\u001b[0mx\u001b[0m\u001b[0;34m)\u001b[0m\u001b[0;34m\u001b[0m\u001b[0m\n\u001b[1;32m     14\u001b[0m \u001b[0;32mprint\u001b[0m \u001b[0mtype\u001b[0m\u001b[0;34m(\u001b[0m\u001b[0mxtmp\u001b[0m\u001b[0;34m)\u001b[0m\u001b[0;34m\u001b[0m\u001b[0m\n\u001b[0;32m---> 15\u001b[0;31m \u001b[0mxtmp\u001b[0m \u001b[0;34m=\u001b[0m \u001b[0mconv\u001b[0m\u001b[0;34m(\u001b[0m\u001b[0mxtmp\u001b[0m\u001b[0;34m)\u001b[0m\u001b[0;34m\u001b[0m\u001b[0m\n\u001b[0m\u001b[1;32m     16\u001b[0m \u001b[0;31m# x = Add()([x,xtmp])\u001b[0m\u001b[0;34m\u001b[0m\u001b[0;34m\u001b[0m\u001b[0m\n\u001b[1;32m     17\u001b[0m \u001b[0;31m# x = Activation('relu')(x)\u001b[0m\u001b[0;34m\u001b[0m\u001b[0;34m\u001b[0m\u001b[0m\n",
      "\u001b[0;32m/home/tommy/anaconda2/lib/python2.7/site-packages/keras/engine/topology.pyc\u001b[0m in \u001b[0;36m__call__\u001b[0;34m(self, inputs, **kwargs)\u001b[0m\n\u001b[1;32m    585\u001b[0m             \u001b[0;31m# Raise exceptions in case the input is not compatible\u001b[0m\u001b[0;34m\u001b[0m\u001b[0;34m\u001b[0m\u001b[0m\n\u001b[1;32m    586\u001b[0m             \u001b[0;31m# with the input_spec set at build time.\u001b[0m\u001b[0;34m\u001b[0m\u001b[0;34m\u001b[0m\u001b[0m\n\u001b[0;32m--> 587\u001b[0;31m             \u001b[0mself\u001b[0m\u001b[0;34m.\u001b[0m\u001b[0massert_input_compatibility\u001b[0m\u001b[0;34m(\u001b[0m\u001b[0minputs\u001b[0m\u001b[0;34m)\u001b[0m\u001b[0;34m\u001b[0m\u001b[0m\n\u001b[0m\u001b[1;32m    588\u001b[0m \u001b[0;34m\u001b[0m\u001b[0m\n\u001b[1;32m    589\u001b[0m             \u001b[0;31m# Handle mask propagation.\u001b[0m\u001b[0;34m\u001b[0m\u001b[0;34m\u001b[0m\u001b[0m\n",
      "\u001b[0;32m/home/tommy/anaconda2/lib/python2.7/site-packages/keras/engine/topology.pyc\u001b[0m in \u001b[0;36massert_input_compatibility\u001b[0;34m(self, inputs)\u001b[0m\n\u001b[1;32m    495\u001b[0m                                              \u001b[0mstr\u001b[0m\u001b[0;34m(\u001b[0m\u001b[0maxis\u001b[0m\u001b[0;34m)\u001b[0m \u001b[0;34m+\u001b[0m \u001b[0;34m' of input shape to have '\u001b[0m\u001b[0;34m\u001b[0m\u001b[0m\n\u001b[1;32m    496\u001b[0m                                              \u001b[0;34m'value '\u001b[0m \u001b[0;34m+\u001b[0m \u001b[0mstr\u001b[0m\u001b[0;34m(\u001b[0m\u001b[0mvalue\u001b[0m\u001b[0;34m)\u001b[0m \u001b[0;34m+\u001b[0m\u001b[0;34m\u001b[0m\u001b[0m\n\u001b[0;32m--> 497\u001b[0;31m                                              ' but got shape ' + str(x_shape))\n\u001b[0m\u001b[1;32m    498\u001b[0m             \u001b[0;31m# Check shape.\u001b[0m\u001b[0;34m\u001b[0m\u001b[0;34m\u001b[0m\u001b[0m\n\u001b[1;32m    499\u001b[0m             \u001b[0;32mif\u001b[0m \u001b[0mspec\u001b[0m\u001b[0;34m.\u001b[0m\u001b[0mshape\u001b[0m \u001b[0;32mis\u001b[0m \u001b[0;32mnot\u001b[0m \u001b[0mNone\u001b[0m\u001b[0;34m:\u001b[0m\u001b[0;34m\u001b[0m\u001b[0m\n",
      "\u001b[0;31mValueError\u001b[0m: Input 0 is incompatible with layer conv2d_66: expected axis -1 of input shape to have value 64 but got shape (None, 0, 18, 128)"
     ]
    }
   ],
   "source": [
    "x = pool(l)\n",
    "x = Conv2D(64, (7,7), padding='same')(x)\n",
    "\n",
    "x = pool(x)\n",
    "conv = Conv2D(64, (3,3), padding='same')\n",
    "xtmp = conv(x)\n",
    "xtmp = conv(xtmp)\n",
    "x = Add()([x,xtmp])\n",
    "x = Activation('relu')(x)\n",
    "\n",
    "x = pool(x)\n",
    "conv = Conv2D(128, (3,3), padding='same')\n",
    "xtmp = conv(x)\n",
    "print type(xtmp)\n",
    "xtmp = conv(xtmp)\n",
    "# x = Add()([x,xtmp])\n",
    "# x = Activation('relu')(x)\n",
    "\n",
    "# x = pool(x)\n",
    "# conv = Conv2D(256, (3,3), padding='same')\n",
    "# xtmp = conv(x)\n",
    "# xtmp = conv(xtmp)\n",
    "# x = Add()([x,xtmp])\n",
    "# x = Activation('relu')(x)\n",
    "\n",
    "# x = pool(x)\n",
    "# conv = Conv2D(512, (3,3), padding='same')\n",
    "# xtmp = conv(x)\n",
    "# xtmp = conv(xtmp)\n",
    "# x = Add()([x,xtmp])\n",
    "# x = Activation('relu')(x)\n",
    "\n",
    "x = AveragePooling2D(pool_size=(2,2))(x)\n",
    "x = Dense(1, activation='sigmoid')(x)"
   ]
  },
  {
   "cell_type": "code",
   "execution_count": 34,
   "metadata": {
    "collapsed": true
   },
   "outputs": [],
   "source": [
    "model = Model(l,x)\n",
    "model.compile(optimizer='rmsprop', loss='binary_crossentropy', metrics=['accuracy'])\n",
    "early = keras.callbacks.EarlyStopping(monitor='val_acc',patience=45, verbose=1, mode='auto')"
   ]
  },
  {
   "cell_type": "code",
   "execution_count": 29,
   "metadata": {},
   "outputs": [
    {
     "name": "stdout",
     "output_type": "stream",
     "text": [
      "Epoch 1/10\n",
      "1000/1000 [==============================] - 0s 21us/step - loss: 0.7272 - acc: 0.4810\n",
      "Epoch 2/10\n",
      "1000/1000 [==============================] - 0s 18us/step - loss: 0.6974 - acc: 0.5240\n",
      "Epoch 3/10\n",
      "1000/1000 [==============================] - 0s 19us/step - loss: 0.6831 - acc: 0.5330\n",
      "Epoch 4/10\n",
      "1000/1000 [==============================] - 0s 20us/step - loss: 0.6760 - acc: 0.5660\n",
      "Epoch 5/10\n",
      "1000/1000 [==============================] - 0s 20us/step - loss: 0.6633 - acc: 0.6010\n",
      "Epoch 6/10\n",
      "1000/1000 [==============================] - 0s 17us/step - loss: 0.6574 - acc: 0.6110\n",
      "Epoch 7/10\n",
      "1000/1000 [==============================] - 0s 16us/step - loss: 0.6469 - acc: 0.6110\n",
      "Epoch 8/10\n",
      "1000/1000 [==============================] - 0s 19us/step - loss: 0.6414 - acc: 0.6420\n",
      "Epoch 9/10\n",
      "1000/1000 [==============================] - 0s 22us/step - loss: 0.6336 - acc: 0.6310\n",
      "Epoch 10/10\n",
      "1000/1000 [==============================] - 0s 19us/step - loss: 0.6253 - acc: 0.6640\n"
     ]
    },
    {
     "name": "stderr",
     "output_type": "stream",
     "text": [
      "/home/tommy/anaconda2/lib/python2.7/site-packages/keras/callbacks.py:493: RuntimeWarning: Early stopping conditioned on metric `val_acc` which is not available. Available metrics are: acc,loss\n",
      "  (self.monitor, ','.join(list(logs.keys()))), RuntimeWarning\n"
     ]
    },
    {
     "data": {
      "text/plain": [
       "<keras.callbacks.History at 0x7f5622017090>"
      ]
     },
     "execution_count": 29,
     "metadata": {},
     "output_type": "execute_result"
    }
   ],
   "source": [
    "model.fit(data, labels, epochs=10, batch_size=32, callbacks=[early])"
   ]
  },
  {
   "cell_type": "code",
   "execution_count": null,
   "metadata": {
    "collapsed": true
   },
   "outputs": [],
   "source": [
    "model.fit(data, labels, )"
   ]
  }
 ],
 "metadata": {
  "kernelspec": {
   "display_name": "Python 2",
   "language": "python",
   "name": "python2"
  },
  "language_info": {
   "codemirror_mode": {
    "name": "ipython",
    "version": 2
   },
   "file_extension": ".py",
   "mimetype": "text/x-python",
   "name": "python",
   "nbconvert_exporter": "python",
   "pygments_lexer": "ipython2",
   "version": "2.7.14"
  }
 },
 "nbformat": 4,
 "nbformat_minor": 2
}
